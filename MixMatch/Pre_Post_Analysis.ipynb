{
 "cells": [
  {
   "cell_type": "code",
   "execution_count": 9,
   "id": "1d0d1210",
   "metadata": {},
   "outputs": [
    {
     "name": "stdout",
     "output_type": "stream",
     "text": [
      "{0: 5000, 1: 5000, 2: 5000, 3: 5000, 4: 5000, 5: 5000, 6: 5000, 7: 5000, 8: 5000, 9: 5000}\n",
      "{0: 1000, 1: 1000, 2: 1000, 3: 1000, 4: 1000, 5: 1000, 6: 1000, 7: 1000, 8: 1000, 9: 1000}\n",
      "train_x shape:(50000, 32, 32, 3), train_y shape:(50000,)\n",
      "test_x shape:(10000, 32, 32, 3), test_y shape:(10000,)\n"
     ]
    }
   ],
   "source": [
    "# cifar-10 data overview\n",
    "import numpy as np\n",
    "import random\n",
    "import pickle\n",
    "import platform\n",
    "import os\n",
    "\n",
    "# Loading sequence file\n",
    "def load_pickle(f):\n",
    "    version=platform.python_version_tuple()# P    \n",
    "    if version[0]== '2':\n",
    "        return pickle.load(f)\n",
    "    elif version[0]== '3':\n",
    "        return pickle.load(f,encoding='latin1')\n",
    "    raise ValueError(\"invalid python version:{}\".format(version))\n",
    "# Handling the original data\n",
    "def load_CIFAR_batch(filename):\n",
    "    with open(filename,'rb') as f:\n",
    "        datadict=load_pickle(f)\n",
    "        X=datadict['data']\n",
    "        Y=datadict['labels']\n",
    "        X=X.reshape(10000,3,32,32).transpose(0,2,3,1).astype(\"float\")\n",
    "        #reshape () is the shape of the matrix in the premise of the numerical value does not change the matrix, transpose () transpose the matrix\n",
    "        Y=np.array(Y)\n",
    "        return X,Y\n",
    "\n",
    "# Return the data set that can be used directly\n",
    "def load_CIFAR10(ROOT):\n",
    "    xs=[]\n",
    "    ys=[]\n",
    "    for b in range(1,6):\n",
    "        f=os.path.join(ROOT,'data_batch_%d'%(b,))# os.path.join () Return multiple paths after combining multiple paths\n",
    "        X,Y=load_CIFAR_batch(f)\n",
    "        xs.append(X)\n",
    "        ys.append(Y)\n",
    "    Xtr=np.concatenate(xs)# This function is used to connect multiple arrays\n",
    "    Ytr=np.concatenate(ys)\n",
    "    del X,Y\n",
    "    Xte,Yte=load_CIFAR_batch(os.path.join(ROOT,'test_batch'))\n",
    "    return Xtr,Ytr,Xte,Yte\n",
    "datasets = './data/cifar-10-batches-py'\n",
    "train_x,train_y,test_x,test_y = load_CIFAR10(datasets)\n",
    "unique, counts = np.unique(train_y, return_counts=True)\n",
    "print(dict(zip(unique, counts)))\n",
    "unique2, counts2 = np.unique(test_y, return_counts=True)\n",
    "print(dict(zip(unique2, counts2)))\n",
    "print('train_x shape:%s, train_y shape:%s' % (train_x.shape, train_y.shape))\n",
    "print('test_x shape:%s, test_y shape:%s' % (test_x.shape, test_y.shape))"
   ]
  },
  {
   "cell_type": "code",
   "execution_count": null,
   "id": "8e28aeaf",
   "metadata": {},
   "outputs": [],
   "source": []
  }
 ],
 "metadata": {
  "kernelspec": {
   "display_name": "Python 3",
   "language": "python",
   "name": "python3"
  },
  "language_info": {
   "codemirror_mode": {
    "name": "ipython",
    "version": 3
   },
   "file_extension": ".py",
   "mimetype": "text/x-python",
   "name": "python",
   "nbconvert_exporter": "python",
   "pygments_lexer": "ipython3",
   "version": "3.7.6"
  }
 },
 "nbformat": 4,
 "nbformat_minor": 5
}
